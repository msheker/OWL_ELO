{
 "cells": [
  {
   "cell_type": "code",
   "execution_count": 5,
   "metadata": {},
   "outputs": [],
   "source": [
    "import pandas as pd\n",
    "import os"
   ]
  },
  {
   "cell_type": "code",
   "execution_count": 6,
   "metadata": {
    "collapsed": true
   },
   "outputs": [],
   "source": [
    "# set up elo files. only the latest data is ouputed as dictionary\n",
    "# \n",
    "# input:  filename/path to file containing elo data. default is ELO.csv\n",
    "# output: 2-tuple containing 1) dataframe of the entire elo history and \n",
    "#             2) dictionary containing the latest elo values\n",
    "def setup(file = \"ELO.csv\"):\n",
    "    rating = pd.read_csv( file)\n",
    "    return (rating,dict(rating.iloc[-1,:]))"
   ]
  },
  {
   "cell_type": "code",
   "execution_count": 7,
   "metadata": {},
   "outputs": [],
   "source": [
    "# parse score and team names from string\n",
    "#\n",
    "# input:  \n",
    "# output: \n",
    "def readScore( st):\n",
    "    [A, B] = st.split(\",\")\n",
    "    [teamA, scoreA] = A.split(\"-\")\n",
    "    [teamB, scoreB] = B.split(\"-\")\n",
    "\n",
    "    scoreA = int(scoreA)\n",
    "    scoreB = int(scoreB)\n",
    "    \n",
    "    return [ (teamA,scoreA), (teamB,scoreB)]"
   ]
  },
  {
   "cell_type": "code",
   "execution_count": 8,
   "metadata": {
    "collapsed": true
   },
   "outputs": [],
   "source": [
    "# \n",
    "#\n",
    "# input:  \n",
    "# output: updated elo ratings\n",
    "def updateELO(rating, teamA, teamB, sA, sB):\n",
    "    if (sA > sB):\n",
    "        sA = 1\n",
    "    elif( sA < sB):\n",
    "        sA = 0\n",
    "    else:\n",
    "        sA = .5\n",
    "    sB = 1 - sA\n",
    "    \n",
    "    qA = 10**(rating[teamA] / 400)\n",
    "    qB = 10**(rating[teamB] / 400)\n",
    "    \n",
    "    eA = qA/(qA + qB)\n",
    "    eB = qB/(qA + qB)\n",
    "    \n",
    "    rating[teamA] = rating[teamA] + 20 * (sA - eA)\n",
    "    rating[teamB] = rating[teamB] + 20 * (sB - eB)\n",
    "    \n",
    "    return rating"
   ]
  },
  {
   "cell_type": "code",
   "execution_count": 9,
   "metadata": {
    "collapsed": true
   },
   "outputs": [],
   "source": [
    " "
   ]
  },
  {
   "cell_type": "code",
   "execution_count": 10,
   "metadata": {},
   "outputs": [],
   "source": [
    "def fileParse( file):\n",
    "    file = open(file,\"r\")\n",
    "    i = 0\n",
    "    tA = \"\"\n",
    "\n",
    "    for st in file:\n",
    "        if( tA in st):\n",
    "            i = i + 1\n",
    "        else:\n",
    "            i = 1\n",
    "\n",
    "        #print(st)\n",
    "        [(tA,sA),(tB,sB)] = readScore( st)\n",
    "\n",
    "        #control\n",
    "        if( i == 1 or i == 5):\n",
    "            ctl = updateELO( ctl, tA, tB, sA, sB)\n",
    "        #hybrid    \n",
    "        elif( i == 2):\n",
    "            hyb = updateELO( hyb, tA, tB, sA, sB)\n",
    "        #assault    \n",
    "        elif( i == 3):\n",
    "            ast = updateELO( ast, tA, tB, sA, sB)\n",
    "        #escort\n",
    "        else:\n",
    "            esc = updateELO( esc, tA, tB, sA, sB)\n",
    "\n",
    "    file.close()\n",
    "    saveELO( ctl, hyb, ast, esc)"
   ]
  },
  {
   "cell_type": "code",
   "execution_count": null,
   "metadata": {},
   "outputs": [],
   "source": [
    "flag = False\n",
    "\n",
    "global ctl\n",
    "global hyb\n",
    "global ast\n",
    "global esc\n",
    "\n",
    "control,ctl = setup(\"ControlELO.csv\")\n",
    "hybrid,hyb = setup(\"HybridELO.csv\")\n",
    "assault,ast = setup(\"AssaultELO.csv\")\n",
    "escort,esc = setup(\"EscortELO.csv\")\n",
    "\n",
    "print(\"Please enter the name of the file containing new game scores to parse. \\n  Press the \\\"Enter\\\" key with an empty prompt or type \\\"DONE.\\\" to exit.\")\n",
    "file = input(\"Filename: \")\n",
    "\n",
    "while( file != \"DONE.\" and file != \"\"):\n",
    "    try:\n",
    "        if( os.path.exists( file)):\n",
    "            print(\"*\")\n",
    "            raise FileNotFoundError()\n",
    "        if( os.path.isdir( file)):\n",
    "            for f in os.listdir( file):\n",
    "                fileParse( f)\n",
    "        else:\n",
    "            \n",
    "            fileParse( file)\n",
    "            \n",
    "    except FileNotFoundError:\n",
    "        print(\"File not found. Please re-enter file name.\\n\")\n",
    "        flag = True\n",
    "    \n",
    "    if( flag):\n",
    "        flag = False\n",
    "    else:\n",
    "        print(\"File complete.\")\n",
    "        \n",
    "    print( \"Please enter the name of the file containing new game scores to parse. \\n  Enter \\\"DONE.\\\" to exit.\")\n",
    "    file = input( \"Filename: \")"
   ]
  },
  {
   "cell_type": "code",
   "execution_count": 14,
   "metadata": {},
   "outputs": [
    {
     "data": {
      "text/plain": [
       "{'ATL': 1500,\n",
       " 'BOS': 1500.0,\n",
       " 'CHD': 1500,\n",
       " 'DAL': 1500,\n",
       " 'FLA': 1500,\n",
       " 'GLA': 1490.0,\n",
       " 'GZC': 1500,\n",
       " 'HOU': 1500,\n",
       " 'HZS': 1490.0,\n",
       " 'LDN': 1510.0,\n",
       " 'NYE': 1500.0,\n",
       " 'PAR': 1500,\n",
       " 'PHI': 1490.0,\n",
       " 'SEO': 1510.0,\n",
       " 'SFS': 1500,\n",
       " 'SHD': 1510.0,\n",
       " 'TOR': 1500,\n",
       " 'VAL': 1500,\n",
       " 'VAN': 1500,\n",
       " 'WAS': 1500}"
      ]
     },
     "execution_count": 14,
     "metadata": {},
     "output_type": "execute_result"
    }
   ],
   "source": [
    "ast"
   ]
  },
  {
   "cell_type": "code",
   "execution_count": 15,
   "metadata": {},
   "outputs": [
    {
     "data": {
      "text/plain": [
       "{'ATL': 1500,\n",
       " 'BOS': 1510.0,\n",
       " 'CHD': 1500,\n",
       " 'DAL': 1500,\n",
       " 'FLA': 1500,\n",
       " 'GLA': 1490.0,\n",
       " 'GZC': 1500,\n",
       " 'HOU': 1500,\n",
       " 'HZS': 1510.0,\n",
       " 'LDN': 1490.0,\n",
       " 'NYE': 1490.0,\n",
       " 'PAR': 1500,\n",
       " 'PHI': 1510.0,\n",
       " 'SEO': 1510.0,\n",
       " 'SFS': 1500,\n",
       " 'SHD': 1490.0,\n",
       " 'TOR': 1500,\n",
       " 'VAL': 1500,\n",
       " 'VAN': 1500,\n",
       " 'WAS': 1500}"
      ]
     },
     "execution_count": 15,
     "metadata": {},
     "output_type": "execute_result"
    }
   ],
   "source": [
    "hyb"
   ]
  },
  {
   "cell_type": "code",
   "execution_count": 16,
   "metadata": {},
   "outputs": [
    {
     "data": {
      "text/plain": [
       "{'ATL': 1500,\n",
       " 'BOS': 1490.0,\n",
       " 'CHD': 1500,\n",
       " 'DAL': 1500,\n",
       " 'FLA': 1500,\n",
       " 'GLA': 1490.0,\n",
       " 'GZC': 1500,\n",
       " 'HOU': 1500,\n",
       " 'HZS': 1510.0,\n",
       " 'LDN': 1490.0,\n",
       " 'NYE': 1510.0,\n",
       " 'PAR': 1500,\n",
       " 'PHI': 1510.0,\n",
       " 'SEO': 1510.0,\n",
       " 'SFS': 1500,\n",
       " 'SHD': 1490.0,\n",
       " 'TOR': 1500,\n",
       " 'VAL': 1500,\n",
       " 'VAN': 1500,\n",
       " 'WAS': 1500}"
      ]
     },
     "execution_count": 16,
     "metadata": {},
     "output_type": "execute_result"
    }
   ],
   "source": [
    "esc"
   ]
  },
  {
   "cell_type": "code",
   "execution_count": null,
   "metadata": {
    "collapsed": true
   },
   "outputs": [],
   "source": [
    "    mpd = dict()\n",
    "\n",
    "    mpd[\"Ilios\"] = ctl\n",
    "    mpd[\"Busan\"] = ctl\n",
    "    mpd[\"Nepal\"] = ctl\n",
    "    mpd[\"Oasis\"] = ctl\n",
    "    mpd[\"Lijiang Tower\"] = ctl\n",
    "\n",
    "    mpd[\"Havana\"] = esc\n",
    "    mpd[\"Rialto\"] = esc\n",
    "    mpd[\"Watchpoint: Gibraltar\"] = esc\n",
    "    mpd[\"Dorado\"] = esc\n",
    "    mpd[\"Junkertown\"] = esc\n",
    "    mpd[\"Route 66\"] = esc\n",
    "\n",
    "    mpd[\"Horizon Lunar Colony\"] = ast\n",
    "    mpd[\"Hanamura\"] = ast\n",
    "    mpd[\"Tempdle of Anubis\"] = ast\n",
    "    mpd[\"Volskaya Industries\"] = ast\n",
    "    mpd[\"Paris\"] = ast\n",
    "\n",
    "    mpd[\"Eichenwalde\"] = hyb\n",
    "    mpd[\"King's Row\"] = hyb\n",
    "    mpd[\"Blizzard World\"] = hyb\n",
    "    mpd[\"Numbani\"] = hyb\n",
    "    mpd[\"Hollywood\"] = hyb"
   ]
  }
 ],
 "metadata": {
  "anaconda-cloud": {},
  "kernelspec": {
   "display_name": "Python 3",
   "language": "python",
   "name": "python3"
  },
  "language_info": {
   "codemirror_mode": {
    "name": "ipython",
    "version": 3
   },
   "file_extension": ".py",
   "mimetype": "text/x-python",
   "name": "python",
   "nbconvert_exporter": "python",
   "pygments_lexer": "ipython3",
   "version": "3.7.6"
  }
 },
 "nbformat": 4,
 "nbformat_minor": 1
}
