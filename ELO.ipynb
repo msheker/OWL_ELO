{
 "cells": [
  {
   "cell_type": "code",
   "execution_count": 1,
   "metadata": {
    "collapsed": false
   },
   "outputs": [],
   "source": [
    "import pandas as pd\n",
    "import os\n",
    "\n",
    "global ctl\n",
    "global hyb\n",
    "global ast\n",
    "global esc"
   ]
  },
  {
   "cell_type": "code",
   "execution_count": 2,
   "metadata": {
    "collapsed": false
   },
   "outputs": [],
   "source": [
    "#\n",
    "#\n",
    "#\n",
    "#\n",
    "def dictSetup():\n",
    "    team = dict()\n",
    "\n",
    "    team[\"Atlanta Reign\"] = \"ATL\"\n",
    "    team[\"Boston Uprising\"] = \"BOS\"\n",
    "    team[\"Chengdu Hunters\"] = \"CHD\"\n",
    "    team[\"Dallas Fuel\"] = \"DAL\"\n",
    "    team[\"Florida Mayhem\"] = \"FLO\"\n",
    "    team[\"Guangzhou Charge\"] = \"GZC\"\n",
    "    team[\"Hangzhou Spark\"] = \"HZS\"\n",
    "    team[\"Houston Outlaws\"] = \"HOU\"\n",
    "    team[\"London Spitfire\"] = \"LDN\"\n",
    "    team[\"Los Angeles Gladiators\"] = \"GLA\"\n",
    "    team[\"Los Angeles Valiant\"] = \"VAL\"\n",
    "    team[\"New York Excelsior\"] = \"NYE\"\n",
    "    team[\"Paris Eternal\"] = \"PAR\"\n",
    "    team[\"Philadelphia Fusion\"] = \"PHI\"\n",
    "    team[\"San Francisco Shock\"] = \"SFS\"\n",
    "    team[\"Seoul Dynasty\"] = \"SEO\"\n",
    "    team[\"Shanghai Dragons\"] = \"SHD\"\n",
    "    team[\"Toronto Defiant\"] = \"TOR\"\n",
    "    team[\"Vancouver Titans\"] = \"VAN\"\n",
    "    team[\"Washington Justice\"] = \"WAS\"\n",
    "\n",
    "    mp = dict()\n",
    "\n",
    "    mp[\"Ilios\"] = ctl\n",
    "    mp[\"Busan\"] = ctl\n",
    "    mp[\"Nepal\"] = ctl\n",
    "    mp[\"Oasis\"] = ctl\n",
    "    mp[\"Lijiang Tower\"] = ctl\n",
    "\n",
    "    mp[\"Havana\"] = esc\n",
    "    mp[\"Rialto\"] = esc\n",
    "    mp[\"Watchpoint: Gibraltar\"] = esc\n",
    "    mp[\"Dorado\"] = esc\n",
    "    mp[\"Junkertown\"] = esc\n",
    "    mp[\"Route 66\"] = esc\n",
    "\n",
    "    mp[\"Horizon Lunar Colony\"] = ast\n",
    "    mp[\"Hanamura\"] = ast\n",
    "    mp[\"Temple of Anubis\"] = ast\n",
    "    mp[\"Volskaya Industries\"] = ast\n",
    "\n",
    "    mp[\"Eichenwalde\"] = hyb\n",
    "    mp[\"King's Row\"] = hyb\n",
    "    mp[\"Blizzard World\"] = hyb\n",
    "    mp[\"Numbani\"] = hyb\n",
    "    mp[\"Hollywood\"] = hyb\n"
   ]
  },
  {
   "cell_type": "code",
   "execution_count": 4,
   "metadata": {
    "collapsed": true
   },
   "outputs": [],
   "source": [
    "# set up elo files. only the latest data is ouputed as dictionary\n",
    "# \n",
    "# input:  filename/path to file containing elo data. default is ELO.csv\n",
    "# output: 2-tuple containing 1) dataframe of the entire elo history and \n",
    "#             2) dictionary containing the latest elo values\n",
    "def setup(file = \"ELO.csv\"):\n",
    "    rating = pd.read_csv( file)\n",
    "    dictSetup()\n",
    "    return (rating,dict(rating.iloc[-1,:]))"
   ]
  },
  {
   "cell_type": "code",
   "execution_count": 5,
   "metadata": {
    "collapsed": true
   },
   "outputs": [],
   "source": [
    "# \n",
    "#\n",
    "# input:  \n",
    "# output: updated elo ratings\n",
    "def updateELO(rating, teamA, teamB, sA, sB):\n",
    "    if (sA > sB):\n",
    "        sA = 1\n",
    "    elif( sA < sB):\n",
    "        sA = 0\n",
    "    else:\n",
    "        sA = .5\n",
    "    sB = 1 - sA\n",
    "    \n",
    "    qA = 10**(rating[teamA] / 400)\n",
    "    qB = 10**(rating[teamB] / 400)\n",
    "    \n",
    "    eA = qA/(qA + qB)\n",
    "    eB = qB/(qA + qB)\n",
    "    \n",
    "    rating[teamA] = rating[teamA] + 20 * (sA - eA)\n",
    "    rating[teamB] = rating[teamB] + 20 * (sB - eB)\n",
    "    \n",
    "    return rating"
   ]
  },
  {
   "cell_type": "code",
   "execution_count": 25,
   "metadata": {
    "collapsed": false
   },
   "outputs": [
    {
     "name": "stdout",
     "output_type": "stream",
     "text": [
      "10223\n"
     ]
    },
    {
     "ename": "NameError",
     "evalue": "name 'mid' is not defined",
     "output_type": "error",
     "traceback": [
      "\u001b[1;31m---------------------------------------------------------------------------\u001b[0m",
      "\u001b[1;31mNameError\u001b[0m                                 Traceback (most recent call last)",
      "\u001b[1;32m<ipython-input-25-0ddc8aead045>\u001b[0m in \u001b[0;36m<module>\u001b[1;34m()\u001b[0m\n\u001b[0;32m     25\u001b[0m \u001b[1;33m\u001b[0m\u001b[0m\n\u001b[0;32m     26\u001b[0m     \u001b[0mprint\u001b[0m\u001b[1;33m(\u001b[0m\u001b[0mrow\u001b[0m\u001b[1;33m[\u001b[0m\u001b[1;36m1\u001b[0m\u001b[1;33m]\u001b[0m\u001b[1;33m)\u001b[0m\u001b[1;33m\u001b[0m\u001b[0m\n\u001b[1;32m---> 27\u001b[1;33m     \u001b[1;32mif\u001b[0m \u001b[0mmid\u001b[0m \u001b[1;33m!=\u001b[0m \u001b[0mrow\u001b[0m\u001b[1;33m[\u001b[0m\u001b[1;36m1\u001b[0m\u001b[1;33m]\u001b[0m\u001b[1;33m:\u001b[0m\u001b[1;33m\u001b[0m\u001b[0m\n\u001b[0m\u001b[0;32m     28\u001b[0m         \u001b[0mmid\u001b[0m \u001b[1;33m=\u001b[0m \u001b[0mrow\u001b[0m\u001b[1;33m[\u001b[0m\u001b[1;36m1\u001b[0m\u001b[1;33m]\u001b[0m\u001b[1;33m\u001b[0m\u001b[0m\n",
      "\u001b[1;31mNameError\u001b[0m: name 'mid' is not defined"
     ]
    }
   ],
   "source": [
    "x,rating = setup()\n",
    "\n",
    "control,ctl = setup(\"ControlELO.csv\")\n",
    "hybrid,hyb = setup(\"HybridELO.csv\")\n",
    "assault,ast = setup(\"AssaultELO.csv\")\n",
    "escort,esc = setup(\"EscortELO.csv\")\n",
    "\n",
    "df = pd.read_csv(\"match_map_stats.csv\")\n",
    "\n",
    "del df['round_start_time']\n",
    "del df['stage']\n",
    "\n",
    "del df['control_round_name']\n",
    "del df['attacker']\n",
    "del df['defender']\n",
    "del df['team_one_name']\n",
    "del df['team_two_name']\n",
    "del df['attacker_payload_distance']\n",
    "del df['defender_payload_distance']\n",
    "del df['attacker_time_banked']\n",
    "del df['defender_time_banked']\n",
    "del df['attacker_control_perecent']\n",
    "del df['defender_control_perecent']\n",
    "del df['attacker_round_end_score'] \n",
    "del df['defender_round_end_score']\n",
    "\n",
    "rows, c = df.shape\n",
    "mid =-1\n",
    "\n",
    "for i in range(rows):\n",
    "    row = df.iloc[i,:]\n",
    "    \n",
    "    if i == 0:\n",
    "        mid = row[1]\n",
    "        gn = row[2]\n",
    "        \n",
    "        mp[row[6]] = updateELO(mp[row[6]],row[4],row[5],row[8],row[9])\n",
    "    print(row[1])\n",
    "    if mid != row[1]:\n",
    "        mid = row[1]\n"
   ]
  },
  {
   "cell_type": "code",
   "execution_count": null,
   "metadata": {
    "collapsed": true
   },
   "outputs": [],
   "source": [
    "#\n",
    "#\n",
    "# input:  the four updated map elos\n",
    "# output: files updated with latest elo data\n",
    "def saveELO(control, hybrid, assault, escort):\n",
    "    stELO = \"\"    \n",
    "    stCTL = \"\"  \n",
    "    stHYB = \"\"  \n",
    "    stAST = \"\"  \n",
    "    stESC = \"\"  \n",
    "    \n",
    "    tmp = control\n",
    "    \n",
    "    for key in tmp:\n",
    "        stCTL = stCTL + \",\" + str(control[key])\n",
    "        stHYB = stHYB + \",\" + str(hybrid[key])\n",
    "        stAST = stAST + \",\" + str(assault[key])\n",
    "        stESC = stESC + \",\" + str(escort[key])\n",
    "        \n",
    "        tmp[key] = control[key] + hybrid[key] + assault[key] + escort[key]\n",
    "        tmp[key] = tmp[key]/4\n",
    "        \n",
    "        stELO = stELO + \",\" + str(tmp[key])\n",
    "    \n",
    "    #print(stCTL[1:])\n",
    "    #print(stHYB[1:])\n",
    "    #print(stAST[1:])\n",
    "    #print(stESC[1:])\n",
    "    #print(stELO[1:])\n",
    "    open(\"ControlELO.csv\", \"a\").write(stCTL[1:]).close()\n",
    "    open(\"HybridELO.csv\", \"a\").write(stHYB[1:]).close()\n",
    "    open(\"AssaultELO.csv\", \"a\").write(stAST[1:]).close()\n",
    "    open(\"EscortELO.csv\", \"a\").write(stESC[1:]).close()\n",
    "    open(\"ELO.csv\", \"a\").write(stELO[1:]).close()"
   ]
  }
 ],
 "metadata": {
  "anaconda-cloud": {},
  "kernelspec": {
   "display_name": "Python [Root]",
   "language": "python",
   "name": "Python [Root]"
  },
  "language_info": {
   "codemirror_mode": {
    "name": "ipython",
    "version": 3
   },
   "file_extension": ".py",
   "mimetype": "text/x-python",
   "name": "python",
   "nbconvert_exporter": "python",
   "pygments_lexer": "ipython3",
   "version": "3.5.2"
  }
 },
 "nbformat": 4,
 "nbformat_minor": 0
}
