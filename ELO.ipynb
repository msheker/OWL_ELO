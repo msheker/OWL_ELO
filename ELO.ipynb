{
 "cells": [
  {
   "cell_type": "code",
   "execution_count": 1,
   "metadata": {
    "collapsed": false
   },
   "outputs": [],
   "source": [
    "import pandas as pd"
   ]
  },
  {
   "cell_type": "code",
   "execution_count": 2,
   "metadata": {
    "collapsed": true
   },
   "outputs": [],
   "source": [
    "# set up elo files. only the latest data is ouputed as dictionary\n",
    "# \n",
    "# input:  filename/path to file containing elo data. default is ELO.csv\n",
    "# output: 2-tuple containing 1) dataframe of the entire elo history and \n",
    "#             2) dictionary containing the latest elo values\n",
    "def setup(file = \"ELO.csv\"):\n",
    "    rating = pd.read_csv( file)\n",
    "    return (rating,dict(rating.iloc[-1,:]))"
   ]
  },
  {
   "cell_type": "code",
   "execution_count": 3,
   "metadata": {
    "collapsed": false
   },
   "outputs": [],
   "source": [
    "# parse score and team names from string\n",
    "#\n",
    "# input:  \n",
    "# output: \n",
    "def readScore( st):\n",
    "    [A, B] = st.split(\",\")\n",
    "    [teamA, scoreA] = A.split(\"-\")\n",
    "    [teamB, scoreB] = B.split(\"-\")\n",
    "\n",
    "    scoreA = int(scoreA)\n",
    "    scoreB = int(scoreB)\n",
    "    \n",
    "    return [ (teamA,scoreA), (teamB,scoreB)]"
   ]
  },
  {
   "cell_type": "code",
   "execution_count": 4,
   "metadata": {
    "collapsed": true
   },
   "outputs": [],
   "source": [
    "# \n",
    "#\n",
    "# input:  \n",
    "# output: updated elo ratings\n",
    "def updateELO(rating, teamA, teamB, sA, sB):\n",
    "    if (sA > sB):\n",
    "        sA = 1\n",
    "    elif( sA < sB):\n",
    "        sA = 0\n",
    "    else:\n",
    "        sA = .5\n",
    "    sB = 1 - sA\n",
    "    \n",
    "    qA = 10**(rating[teamA] / 400)\n",
    "    qB = 10**(rating[teamB] / 400)\n",
    "    \n",
    "    eA = qA/(qA + qB)\n",
    "    eB = qB/(qA + qB)\n",
    "    \n",
    "    rating[teamA] = rating[teamA] + 20 * (sA - eA)\n",
    "    rating[teamB] = rating[teamB] + 20 * (sB - eB)\n",
    "    \n",
    "    return rating"
   ]
  },
  {
   "cell_type": "code",
   "execution_count": 8,
   "metadata": {
    "collapsed": true
   },
   "outputs": [],
   "source": [
    "#\n",
    "#\n",
    "# input:  the four updated map elos\n",
    "# output: files updated with latest elo data\n",
    "def saveELO(control, hybrid, assault, escort):\n",
    "    stELO = \"\"    \n",
    "    stCTL = \"\"  \n",
    "    stHYB = \"\"  \n",
    "    stAST = \"\"  \n",
    "    stESC = \"\"  \n",
    "    \n",
    "    for key in control:\n",
    "        stCTL = stCTL + \",\" + str(control[key])\n",
    "        stHYB = stHYB + \",\" + str(hybrid[key])\n",
    "        stAST = stAST + \",\" + str(assault[key])\n",
    "        stESC = stESC + \",\" + str(escort[key])\n",
    "        \n",
    "        control[key] = control[key] + hybrid[key] + assault[key] + escort[key]\n",
    "        control[key] = control[key]/4\n",
    "        \n",
    "        stELO = st + \",\" + str(control[key])\n",
    "    \n",
    "    print(stCTL[1:])\n",
    "    print(stHYB[1:])\n",
    "    print(stAST[1:])\n",
    "    print(stESC[1:])\n",
    "    print(stELO[1:])\n",
    "    #open(\"ControlELO.csv\", \"a\").write(stCTL[1:])\n",
    "    #open(\"HybridELO.csv\", \"a\").write(stHYB[1:])\n",
    "    #open(\"AssaultELO.csv\", \"a\").write(stAST[1:])\n",
    "    #open(\"EscortELO.csv\", \"a\").write(stESC[1:])\n",
    "    #open(\"ELO.csv\", \"a\").write(stELO[1:])"
   ]
  },
  {
   "cell_type": "code",
   "execution_count": 9,
   "metadata": {
    "collapsed": false
   },
   "outputs": [
    {
     "name": "stdout",
     "output_type": "stream",
     "text": [
      "Please enter the name of the file containing new game scores to parse. \n",
      "  Enter \"DONE.\" to exit.\n",
      "Filename: games0214.csv\n",
      "PHI-2,LDN-1\n",
      "\n",
      "PHI-3,LDN-2\n",
      "\n",
      "PHI-4,LDN-5\n",
      "\n",
      "PHI-1,LDN-0\n",
      "\n",
      "NYE-2,BOS-0\n",
      "\n",
      "NYE-3,BOS-4\n",
      "\n",
      "NYE-4,BOS-4\n",
      "\n",
      "NYE-3,BOS-2\n",
      "\n",
      "SEO-0,GLA-2\n",
      "\n",
      "SEO-3,GLA-1\n",
      "\n",
      "SEO-1,GLA-0\n",
      "\n",
      "SEO-5,GLA-4\n",
      "\n",
      "SHD-1,HZS-2\n",
      "\n",
      "SHD-1,HZS-2\n",
      "\n",
      "SHD-3,HZS-2\n",
      "\n",
      "SHD-1,HZS-2\n",
      "\n",
      "File complete.\n",
      "Please enter the name of the file containing new game scores to parse. \n",
      "  Enter \"DONE.\" to exit.\n",
      "Filename: DONE.\n"
     ]
    }
   ],
   "source": [
    "flag = False\n",
    "control,ctl = setup(\"ControlELO.csv\")\n",
    "hybrid,hyb = setup(\"HybridELO.csv\")\n",
    "assault,ast = setup(\"AssaultELO.csv\")\n",
    "escort,esc = setup(\"EscortELO.csv\")\n",
    "\n",
    "print(\"Please enter the name of the file containing new game scores to parse. \\n  Enter \\\"DONE.\\\" to exit.\")\n",
    "file = input(\"Filename: \")\n",
    "\n",
    "while( file != \"DONE.\"):\n",
    "    try:\n",
    "        file = open(file,\"r\")\n",
    "        i = 0\n",
    "        tA = \"\"\n",
    "        \n",
    "        for st in file:\n",
    "            if( tA in st):\n",
    "                i = i + 1\n",
    "            else:\n",
    "                i = 1\n",
    "                \n",
    "            #print(st)\n",
    "            [(tA,sA),(tB,sB)] = readScore( st)\n",
    "            \n",
    "            #control\n",
    "            if( i == 1 or i == 5):\n",
    "                ctl = updateELO( ctl, tA, tB, sA, sB)\n",
    "            #hybrid    \n",
    "            elif( i == 2):\n",
    "                hyb = updateELO( hyb, tA, tB, sA, sB)\n",
    "            #assault    \n",
    "            elif( i == 3):\n",
    "                ast = updateELO( ast, tA, tB, sA, sB)\n",
    "            #escort\n",
    "            else:\n",
    "                esc = updateELO( esc, tA, tB, sA, sB)\n",
    "        \n",
    "            saveELO( ctl, hyb, ast, esc)\n",
    "            \n",
    "    except FileNotFoundError:\n",
    "        print(\"File not found. Please re-enter file name.\\n\")\n",
    "        flag = True\n",
    "    \n",
    "    if( flag):\n",
    "        flag = False\n",
    "    else:\n",
    "        print(\"File complete.\")\n",
    "        \n",
    "    print( \"Please enter the name of the file containing new game scores to parse. \\n  Enter \\\"DONE.\\\" to exit.\")\n",
    "    file = input( \"Filename: \")"
   ]
  },
  {
   "cell_type": "code",
   "execution_count": null,
   "metadata": {
    "collapsed": true
   },
   "outputs": [],
   "source": []
  }
 ],
 "metadata": {
  "kernelspec": {
   "display_name": "Python [Root]",
   "language": "python",
   "name": "Python [Root]"
  },
  "language_info": {
   "codemirror_mode": {
    "name": "ipython",
    "version": 3
   },
   "file_extension": ".py",
   "mimetype": "text/x-python",
   "name": "python",
   "nbconvert_exporter": "python",
   "pygments_lexer": "ipython3",
   "version": "3.5.2"
  }
 },
 "nbformat": 4,
 "nbformat_minor": 0
}
