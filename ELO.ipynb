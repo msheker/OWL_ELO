{
 "cells": [
  {
   "cell_type": "code",
   "execution_count": 2,
   "metadata": {
    "collapsed": false
   },
   "outputs": [],
   "source": [
    "import pandas as pd"
   ]
  },
  {
   "cell_type": "code",
   "execution_count": 16,
   "metadata": {
    "collapsed": true
   },
   "outputs": [],
   "source": [
    "def setup(file = \"ELO.csv\"):\n",
    "    return pd.read_csv( file)"
   ]
  },
  {
   "cell_type": "code",
   "execution_count": 7,
   "metadata": {
    "collapsed": false
   },
   "outputs": [],
   "source": [
    "def readScore( st):\n",
    "    [A, B] = st.split(\",\")\n",
    "    [teamA, scoreA] = A.split(\"-\")\n",
    "    [teamB, scoreB] = B.split(\"-\")\n",
    "\n",
    "    scoreA = int(scoreA)\n",
    "    scoreB = int(scoreB)\n",
    "    \n",
    "    return [ (teamA,scoreA), (teamB,scoreB)]"
   ]
  },
  {
   "cell_type": "code",
   "execution_count": 4,
   "metadata": {
    "collapsed": true
   },
   "outputs": [],
   "source": [
    "def updateELO(rating, teamA, teamB, sA, sB):\n",
    "    if (sA > sB):\n",
    "        sA = 1\n",
    "    elif( sA < sB):\n",
    "        sA = 0\n",
    "    else:\n",
    "        sA = .5\n",
    "    sB = 1 - sA\n",
    "    \n",
    "    qA = 10**(rating[teamA] / 400)\n",
    "    qB = 10**(rating[teamB] / 400)\n",
    "    \n",
    "    eA = qA/(qA + qB)\n",
    "    eB = qB/(qA + qB)\n",
    "    \n",
    "    rating[teamA] = rating[teamA] + 20 (sA - eA)\n",
    "    rating[teamB] = rating[teamB] + 20 (sB - eB)\n",
    "    \n",
    "    return rating"
   ]
  },
  {
   "cell_type": "code",
   "execution_count": 6,
   "metadata": {
    "collapsed": false
   },
   "outputs": [
    {
     "name": "stdout",
     "output_type": "stream",
     "text": [
      "Please enter the name of the file containing new game scores to parse. \n",
      "  Enter \"DONE.\" to exit.\n",
      "Filename: f\n",
      "File not found. Please re-enter file name.\n",
      "\n",
      "Please enter the name of the file containing new game scores to parse. \n",
      "  Enter \"DONE.\" to exit.\n",
      "Filename: DONE.\n"
     ]
    }
   ],
   "source": [
    "flag = False\n",
    "\n",
    "print(\"Please enter the name of the file containing new game scores to parse. \\n  Enter \\\"DONE.\\\" to exit.\")\n",
    "file = input(\"Filename: \")\n",
    "\n",
    "while( file != \"DONE.\"):\n",
    "    try:\n",
    "        st = open(file)\n",
    "        i = 0\n",
    "        tA = \"\"\n",
    "        \n",
    "        for st in file\n",
    "            if( tA is in st):\n",
    "                i = i + 1\n",
    "            else:\n",
    "                i = 1\n",
    "                \n",
    "            [(tA,sA),(tB,sB)] = readScore( st)\n",
    "            \n",
    "            #control\n",
    "            if( i == 1 or ):\n",
    "                control = setup(\"ControlELO.csv\")\n",
    "            #hybrid    \n",
    "            elif( i == 2):\n",
    "                hybrid = setup(\"ELO.csv\")\n",
    "            #assault    \n",
    "            elif( i == 3):\n",
    "                 = setup(\"AssaultELO.csv\")\n",
    "            #escort\n",
    "            else:\n",
    "                escort = setup(\"Escort.csv\")\n",
    "    except FileNotFoundError:\n",
    "        print(\"File not found. Please re-enter file name.\\n\")\n",
    "        flag = True\n",
    "    \n",
    "    if( flag):\n",
    "        flag = False\n",
    "    else:\n",
    "        print(\"File complete.\")\n",
    "        \n",
    "    print( \"Please enter the name of the file containing new game scores to parse. \\n  Enter \\\"DONE.\\\" to exit.\")\n",
    "    file = input( \"Filename: \")"
   ]
  },
  {
   "cell_type": "code",
   "execution_count": 27,
   "metadata": {
    "collapsed": false
   },
   "outputs": [
    {
     "data": {
      "text/plain": [
       "{' BOS': 1500,\n",
       " ' CHD': 1500,\n",
       " ' DAL': 1500,\n",
       " ' FLA': 1500,\n",
       " ' GLA': 1500,\n",
       " ' GZC': 1500,\n",
       " ' HOU': 1500,\n",
       " ' HZS': 1500,\n",
       " ' LDN': 1500,\n",
       " ' NYE': 1500,\n",
       " ' PAR': 1500,\n",
       " ' PHI': 1500,\n",
       " ' SEO': 1500,\n",
       " ' SFS': 1500,\n",
       " ' SHD': 1500,\n",
       " ' TOR': 1500,\n",
       " ' VAL': 1500,\n",
       " ' VAN': 1500,\n",
       " ' WAS': 1500,\n",
       " 'ATL': 1500,\n",
       " 'BOS': 1000}"
      ]
     },
     "execution_count": 27,
     "metadata": {},
     "output_type": "execute_result"
    }
   ],
   "source": [
    "rating = setup()\n",
    "other = rating\n",
    "rating = pd.concat([rating, other]).reset_index()\n",
    "del rating[\"index\"]\n",
    "d = dict(rating.iloc[-1,:])\n",
    "d[\"BOS\"] = 1000\n",
    "d"
   ]
  },
  {
   "cell_type": "code",
   "execution_count": null,
   "metadata": {
    "collapsed": true
   },
   "outputs": [],
   "source": []
  }
 ],
 "metadata": {
  "kernelspec": {
   "display_name": "Python [Root]",
   "language": "python",
   "name": "Python [Root]"
  },
  "language_info": {
   "codemirror_mode": {
    "name": "ipython",
    "version": 3
   },
   "file_extension": ".py",
   "mimetype": "text/x-python",
   "name": "python",
   "nbconvert_exporter": "python",
   "pygments_lexer": "ipython3",
   "version": "3.5.2"
  }
 },
 "nbformat": 4,
 "nbformat_minor": 0
}
